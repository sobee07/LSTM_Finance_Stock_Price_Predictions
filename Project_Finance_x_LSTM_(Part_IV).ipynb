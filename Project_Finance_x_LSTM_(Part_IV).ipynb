{
  "nbformat": 4,
  "nbformat_minor": 0,
  "metadata": {
    "colab": {
      "name": "Project Finance x LSTM (Part IV).ipynb",
      "provenance": []
    },
    "kernelspec": {
      "display_name": "Python 3",
      "language": "python",
      "name": "python3"
    },
    "language_info": {
      "codemirror_mode": {
        "name": "ipython",
        "version": 3
      },
      "file_extension": ".py",
      "mimetype": "text/x-python",
      "name": "python",
      "nbconvert_exporter": "python",
      "pygments_lexer": "ipython3",
      "version": "3.7.3"
    }
  },
  "cells": [
    {
      "cell_type": "markdown",
      "metadata": {
        "id": "48Uztv6L9AVC"
      },
      "source": [
        "# Introduction\n",
        "We hope you're reading this on <font color = \"orange\">Google Colab</font>. If not, go back to Part III and follow the guide! \n",
        "\n",
        "In this section, we will:\n",
        "1. Mount the Google Drive and read the CSV\n",
        "2. Train a vanilla LSTM model using Open\n",
        "3. Train another vanilla LSTM model using FilteredOpen\n",
        "4. Plot and compare our model results\n",
        "\n",
        "As mentioned at the end of Part I, we will be answering two questions:\n",
        "1. Can LSTM help with stock predictions?\n",
        "2. Can using signal processing technique help with improving stock predictions?"
      ]
    },
    {
      "cell_type": "markdown",
      "metadata": {
        "id": "N5AFJIJbth-D"
      },
      "source": [
        "### Step 1: Import pandas\n",
        "Let's start with importing pandas."
      ]
    },
    {
      "cell_type": "code",
      "metadata": {
        "id": "Ytn5JKeRuC8J"
      },
      "source": [
        "# Step 1: Import pandas"
      ],
      "execution_count": null,
      "outputs": []
    },
    {
      "cell_type": "code",
      "metadata": {
        "id": "dzoHiXraxt8n"
      },
      "source": [
        "import pandas as pd"
      ],
      "execution_count": 186,
      "outputs": []
    },
    {
      "cell_type": "markdown",
      "metadata": {
        "id": "RwoDhp0R80m0"
      },
      "source": [
        "### Step 2: Mount your drive\n",
        "Before we can read the CSV we'll need to mount the drive.\n",
        "\n",
        "![MountDriveInstructions](https://uplevelsg.s3-ap-southeast-1.amazonaws.com/ProjectFinancexLSTM/MountDriveInstructions.png)\n",
        "\n",
        "Steps you'll need:\n",
        "1. Connect the runtime\n",
        "2. Mount your Google Drive\n",
        "3. Navigate through your directory until you reach the folder containing \"Project Finance x LSTM (Part IV).ipynb\" and the CSV from Part III\n",
        "4. [Not shown] Right click, and click 'Copy path'\n",
        "5. Use that to read your CSV using pandas later"
      ]
    },
    {
      "cell_type": "code",
      "metadata": {
        "id": "9xtYGPuw7U0X"
      },
      "source": [
        "# Step 2: Click on 'Mount Drive' button (2) and mount drive"
      ],
      "execution_count": null,
      "outputs": []
    },
    {
      "cell_type": "code",
      "metadata": {
        "colab": {
          "base_uri": "https://localhost:8080/"
        },
        "id": "svhcjzYLx2wf",
        "outputId": "3b81a021-d220-47e7-9b18-4726414390db"
      },
      "source": [
        "\r\n",
        "from google.colab import drive\r\n",
        "drive.mount('/content/drive')"
      ],
      "execution_count": 187,
      "outputs": [
        {
          "output_type": "stream",
          "text": [
            "Drive already mounted at /content/drive; to attempt to forcibly remount, call drive.mount(\"/content/drive\", force_remount=True).\n"
          ],
          "name": "stdout"
        }
      ]
    },
    {
      "cell_type": "markdown",
      "metadata": {
        "id": "nQ0DbA6ASWAr"
      },
      "source": [
        "### Step 3: Read the CSV from Part III\n",
        "Now that you've mounted the Drive, you can now read the CSV that you've uploaded into the Google Drive.\n",
        "\n",
        "Make sure you set the first column as your index, and parse dates so that the dates are parsed as DateTimeIndex object.\n",
        "\n",
        "You should have:\n",
        "- 4,904 rows\n",
        "- 7 columns"
      ]
    },
    {
      "cell_type": "code",
      "metadata": {
        "id": "RayddKta2k5l"
      },
      "source": [
        "# Step 3: Read the CSV from Part III"
      ],
      "execution_count": null,
      "outputs": []
    },
    {
      "cell_type": "code",
      "metadata": {
        "id": "KVbhII14yDMW"
      },
      "source": [
        "sp500=pd.read_csv(\"/content/drive/My Drive/Stock_Price_Prediction/sp500_Filtered_open.csv\",index_col='Date',parse_dates=True)\r\n"
      ],
      "execution_count": 188,
      "outputs": []
    },
    {
      "cell_type": "code",
      "metadata": {
        "colab": {
          "base_uri": "https://localhost:8080/",
          "height": 446
        },
        "id": "9sHYGroSyeXE",
        "outputId": "5ca4c7b3-2679-4e78-d1bb-c585a27a9f6e"
      },
      "source": [
        "sp500"
      ],
      "execution_count": 189,
      "outputs": [
        {
          "output_type": "execute_result",
          "data": {
            "text/html": [
              "<div>\n",
              "<style scoped>\n",
              "    .dataframe tbody tr th:only-of-type {\n",
              "        vertical-align: middle;\n",
              "    }\n",
              "\n",
              "    .dataframe tbody tr th {\n",
              "        vertical-align: top;\n",
              "    }\n",
              "\n",
              "    .dataframe thead th {\n",
              "        text-align: right;\n",
              "    }\n",
              "</style>\n",
              "<table border=\"1\" class=\"dataframe\">\n",
              "  <thead>\n",
              "    <tr style=\"text-align: right;\">\n",
              "      <th></th>\n",
              "      <th>Open</th>\n",
              "      <th>High</th>\n",
              "      <th>Low</th>\n",
              "      <th>Close</th>\n",
              "      <th>Adj Close</th>\n",
              "      <th>Volume</th>\n",
              "      <th>FilteredOpen</th>\n",
              "    </tr>\n",
              "    <tr>\n",
              "      <th>Date</th>\n",
              "      <th></th>\n",
              "      <th></th>\n",
              "      <th></th>\n",
              "      <th></th>\n",
              "      <th></th>\n",
              "      <th></th>\n",
              "      <th></th>\n",
              "    </tr>\n",
              "  </thead>\n",
              "  <tbody>\n",
              "    <tr>\n",
              "      <th>2000-01-03</th>\n",
              "      <td>1469.250000</td>\n",
              "      <td>1478.000000</td>\n",
              "      <td>1438.359985</td>\n",
              "      <td>1455.219971</td>\n",
              "      <td>1455.219971</td>\n",
              "      <td>931800000</td>\n",
              "      <td>1509.891113</td>\n",
              "    </tr>\n",
              "    <tr>\n",
              "      <th>2000-01-04</th>\n",
              "      <td>1455.219971</td>\n",
              "      <td>1455.219971</td>\n",
              "      <td>1397.430054</td>\n",
              "      <td>1399.420044</td>\n",
              "      <td>1399.420044</td>\n",
              "      <td>1009000000</td>\n",
              "      <td>1460.423078</td>\n",
              "    </tr>\n",
              "    <tr>\n",
              "      <th>2000-01-05</th>\n",
              "      <td>1399.420044</td>\n",
              "      <td>1413.270020</td>\n",
              "      <td>1377.680054</td>\n",
              "      <td>1402.109985</td>\n",
              "      <td>1402.109985</td>\n",
              "      <td>1085500000</td>\n",
              "      <td>1438.658516</td>\n",
              "    </tr>\n",
              "    <tr>\n",
              "      <th>2000-01-06</th>\n",
              "      <td>1402.109985</td>\n",
              "      <td>1411.900024</td>\n",
              "      <td>1392.099976</td>\n",
              "      <td>1403.449951</td>\n",
              "      <td>1403.449951</td>\n",
              "      <td>1092300000</td>\n",
              "      <td>1386.279016</td>\n",
              "    </tr>\n",
              "    <tr>\n",
              "      <th>2000-01-07</th>\n",
              "      <td>1403.449951</td>\n",
              "      <td>1441.469971</td>\n",
              "      <td>1400.729980</td>\n",
              "      <td>1441.469971</td>\n",
              "      <td>1441.469971</td>\n",
              "      <td>1225200000</td>\n",
              "      <td>1399.262688</td>\n",
              "    </tr>\n",
              "    <tr>\n",
              "      <th>...</th>\n",
              "      <td>...</td>\n",
              "      <td>...</td>\n",
              "      <td>...</td>\n",
              "      <td>...</td>\n",
              "      <td>...</td>\n",
              "      <td>...</td>\n",
              "      <td>...</td>\n",
              "    </tr>\n",
              "    <tr>\n",
              "      <th>2019-06-25</th>\n",
              "      <td>2945.780029</td>\n",
              "      <td>2946.520020</td>\n",
              "      <td>2916.010010</td>\n",
              "      <td>2917.379883</td>\n",
              "      <td>2917.379883</td>\n",
              "      <td>3578050000</td>\n",
              "      <td>2911.075968</td>\n",
              "    </tr>\n",
              "    <tr>\n",
              "      <th>2019-06-26</th>\n",
              "      <td>2926.070068</td>\n",
              "      <td>2932.590088</td>\n",
              "      <td>2912.989990</td>\n",
              "      <td>2913.780029</td>\n",
              "      <td>2913.780029</td>\n",
              "      <td>3478130000</td>\n",
              "      <td>2913.774021</td>\n",
              "    </tr>\n",
              "    <tr>\n",
              "      <th>2019-06-27</th>\n",
              "      <td>2919.659912</td>\n",
              "      <td>2929.300049</td>\n",
              "      <td>2918.570068</td>\n",
              "      <td>2924.919922</td>\n",
              "      <td>2924.919922</td>\n",
              "      <td>3122920000</td>\n",
              "      <td>2913.647693</td>\n",
              "    </tr>\n",
              "    <tr>\n",
              "      <th>2019-06-28</th>\n",
              "      <td>2932.939941</td>\n",
              "      <td>2943.979980</td>\n",
              "      <td>2929.050049</td>\n",
              "      <td>2941.760010</td>\n",
              "      <td>2941.760010</td>\n",
              "      <td>5420700000</td>\n",
              "      <td>2877.860699</td>\n",
              "    </tr>\n",
              "    <tr>\n",
              "      <th>2019-07-01</th>\n",
              "      <td>2971.409912</td>\n",
              "      <td>2977.929932</td>\n",
              "      <td>2952.219971</td>\n",
              "      <td>2964.330078</td>\n",
              "      <td>2964.330078</td>\n",
              "      <td>3513270000</td>\n",
              "      <td>2924.416300</td>\n",
              "    </tr>\n",
              "  </tbody>\n",
              "</table>\n",
              "<p>4904 rows × 7 columns</p>\n",
              "</div>"
            ],
            "text/plain": [
              "                   Open         High  ...      Volume  FilteredOpen\n",
              "Date                                  ...                          \n",
              "2000-01-03  1469.250000  1478.000000  ...   931800000   1509.891113\n",
              "2000-01-04  1455.219971  1455.219971  ...  1009000000   1460.423078\n",
              "2000-01-05  1399.420044  1413.270020  ...  1085500000   1438.658516\n",
              "2000-01-06  1402.109985  1411.900024  ...  1092300000   1386.279016\n",
              "2000-01-07  1403.449951  1441.469971  ...  1225200000   1399.262688\n",
              "...                 ...          ...  ...         ...           ...\n",
              "2019-06-25  2945.780029  2946.520020  ...  3578050000   2911.075968\n",
              "2019-06-26  2926.070068  2932.590088  ...  3478130000   2913.774021\n",
              "2019-06-27  2919.659912  2929.300049  ...  3122920000   2913.647693\n",
              "2019-06-28  2932.939941  2943.979980  ...  5420700000   2877.860699\n",
              "2019-07-01  2971.409912  2977.929932  ...  3513270000   2924.416300\n",
              "\n",
              "[4904 rows x 7 columns]"
            ]
          },
          "metadata": {
            "tags": []
          },
          "execution_count": 189
        }
      ]
    },
    {
      "cell_type": "markdown",
      "metadata": {
        "id": "s7UNR47LeXXK"
      },
      "source": [
        "### Step 4: Import libraries\n",
        "Now, we import the rest of the libraries needed for LSTM model training. Here are the libraries you'll need:\n",
        "- matplotlib.pyplot as plt\n",
        "- numpy as np\n",
        "- StandardScaler from sklearn.preprocessing\n",
        "- mean_squared_error from sklearn.metrics\n",
        "- Sequential from keras.models\n",
        "- Dense from keras.layers\n",
        "- LSTM from keras.layers\n",
        "- Dropout from keras.layers"
      ]
    },
    {
      "cell_type": "code",
      "metadata": {
        "id": "t-cCPpMZB4cv"
      },
      "source": [
        "# Step 4: Import libraries"
      ],
      "execution_count": null,
      "outputs": []
    },
    {
      "cell_type": "code",
      "metadata": {
        "id": "vgyp1cfiy1yX"
      },
      "source": [
        "import matplotlib.pyplot as plt\r\n",
        "import numpy as np\r\n",
        "from sklearn.preprocessing import StandardScaler\r\n",
        "from sklearn.metrics import mean_squared_error\r\n",
        "from keras.models import Sequential\r\n",
        "from keras.layers import Dense,LSTM,Dropout\r\n",
        "\r\n"
      ],
      "execution_count": 190,
      "outputs": []
    },
    {
      "cell_type": "markdown",
      "metadata": {
        "id": "MpGeeoMYhAGH"
      },
      "source": [
        "### Step 5: Split your data into train and test\n",
        "Similarly, split your DataFrame into train and test DataFrames according to the following dates:\n",
        "\n",
        "- Train data: January 3 2000 to May 16 2019\n",
        "- Test data: May 15 2019 to July 1 2019\n",
        "\n",
        "You might be wondering why there's an overlap between the last 2 days and first 2 days of Train and Test respectively. \n",
        "\n",
        "We'll explain a bit more later."
      ]
    },
    {
      "cell_type": "code",
      "metadata": {
        "id": "BUuMdNxW7FzU"
      },
      "source": [
        "# Step 5: Split DataFrame into train and test"
      ],
      "execution_count": null,
      "outputs": []
    },
    {
      "cell_type": "code",
      "metadata": {
        "id": "i8aDFHXIzlh6"
      },
      "source": [
        "train=sp500['2000-01-03' :'2019-05-16']\r\n",
        "test=sp500['2019-05-15' :'2019-07-01']"
      ],
      "execution_count": 191,
      "outputs": []
    },
    {
      "cell_type": "markdown",
      "metadata": {
        "id": "v6ci5qQTt8IV"
      },
      "source": [
        "# Data Preparation\n",
        "We'll have to do a bit more data preparation before we start training our model.\n",
        "\n",
        "This step was not mentioned in the publication, but it's good practice to scale your values. \n",
        "\n",
        "We'll prepare three separate sets of scaled training data:\n",
        "1. Open\n",
        "2. FilteredOpen\n",
        "3. ZeroMeanFilteredOpen (we'll get to that soon)"
      ]
    },
    {
      "cell_type": "markdown",
      "metadata": {
        "id": "ysalzw0AmyWF"
      },
      "source": [
        "### Step 6: Add a new column called ZeroMeanFilteredOpen\n",
        "![ResearchPaperNormalization](https://uplevelsg.s3-ap-southeast-1.amazonaws.com/ProjectFinancexLSTM/ResearchPaperNormalization.png)\n",
        "\n",
        "In the paper, the authors performed zero-mean normalization. What is zero-mean normalization?\n",
        "\n",
        "![ZeroMeanNormalization](https://uplevelsg.s3-ap-southeast-1.amazonaws.com/ProjectFinancexLSTM/ZeroMeanNormalization.png)\n",
        "\n",
        "Zero-mean normalization happens when you subtract all values in a column with the overall mean. \n",
        "\n",
        "We will do the same with our denoised Open data and name the new column 'ZeroMeanFilteredOpen'.\n",
        "\n",
        "Here's what we'll do:\n",
        "1. Create a new column 'ZeroMeanFilteredOpen' in the train DataFrame, using the mean of 'FilteredOpen' in train\n",
        "2. Create a new column 'ZeroMeanFilteredOpen' in the test DataFrame, using the mean of 'FilteredOpen' in train\n",
        "\n",
        "It's not the usual normalization, but we should still normalize after splitting, and using data from train set only."
      ]
    },
    {
      "cell_type": "code",
      "metadata": {
        "id": "x0cbHJXFNdza"
      },
      "source": [
        "# Step 6a: Get the mean of 'FilteredOpen' from train\n",
        "\n",
        "# Step 6b: Create 'ZeroMeanFilteredOpen' in train\n",
        "\n",
        "# Step 6c: Create 'ZeroMeanFilteredOpen' in test"
      ],
      "execution_count": null,
      "outputs": []
    },
    {
      "cell_type": "code",
      "metadata": {
        "id": "RGPZHNFnz98i"
      },
      "source": [
        "mean_FilteredOpen=train['FilteredOpen'].mean()"
      ],
      "execution_count": 192,
      "outputs": []
    },
    {
      "cell_type": "code",
      "metadata": {
        "colab": {
          "base_uri": "https://localhost:8080/"
        },
        "id": "ViBtIvcz0nwR",
        "outputId": "75024e7a-bd45-4f6e-cd45-50104e207e0c"
      },
      "source": [
        "mean_FilteredOpen"
      ],
      "execution_count": 193,
      "outputs": [
        {
          "output_type": "execute_result",
          "data": {
            "text/plain": [
              "1528.9837666615056"
            ]
          },
          "metadata": {
            "tags": []
          },
          "execution_count": 193
        }
      ]
    },
    {
      "cell_type": "code",
      "metadata": {
        "colab": {
          "base_uri": "https://localhost:8080/"
        },
        "id": "46Zo5BRA1qew",
        "outputId": "c71b816e-72ed-4f11-d5c0-d43c3493c985"
      },
      "source": [
        "type(mean_FilteredOpen)"
      ],
      "execution_count": 194,
      "outputs": [
        {
          "output_type": "execute_result",
          "data": {
            "text/plain": [
              "float"
            ]
          },
          "metadata": {
            "tags": []
          },
          "execution_count": 194
        }
      ]
    },
    {
      "cell_type": "code",
      "metadata": {
        "colab": {
          "base_uri": "https://localhost:8080/",
          "height": 550
        },
        "id": "wZO-NiLr0rWo",
        "outputId": "fa6afa2d-5bdc-482c-ef93-58824626e194"
      },
      "source": [
        "train['ZeroMeanFilteredOpen']=train['FilteredOpen'].subtract(mean_FilteredOpen) \r\n",
        "train"
      ],
      "execution_count": 195,
      "outputs": [
        {
          "output_type": "stream",
          "text": [
            "/usr/local/lib/python3.6/dist-packages/ipykernel_launcher.py:1: SettingWithCopyWarning: \n",
            "A value is trying to be set on a copy of a slice from a DataFrame.\n",
            "Try using .loc[row_indexer,col_indexer] = value instead\n",
            "\n",
            "See the caveats in the documentation: https://pandas.pydata.org/pandas-docs/stable/user_guide/indexing.html#returning-a-view-versus-a-copy\n",
            "  \"\"\"Entry point for launching an IPython kernel.\n"
          ],
          "name": "stderr"
        },
        {
          "output_type": "execute_result",
          "data": {
            "text/html": [
              "<div>\n",
              "<style scoped>\n",
              "    .dataframe tbody tr th:only-of-type {\n",
              "        vertical-align: middle;\n",
              "    }\n",
              "\n",
              "    .dataframe tbody tr th {\n",
              "        vertical-align: top;\n",
              "    }\n",
              "\n",
              "    .dataframe thead th {\n",
              "        text-align: right;\n",
              "    }\n",
              "</style>\n",
              "<table border=\"1\" class=\"dataframe\">\n",
              "  <thead>\n",
              "    <tr style=\"text-align: right;\">\n",
              "      <th></th>\n",
              "      <th>Open</th>\n",
              "      <th>High</th>\n",
              "      <th>Low</th>\n",
              "      <th>Close</th>\n",
              "      <th>Adj Close</th>\n",
              "      <th>Volume</th>\n",
              "      <th>FilteredOpen</th>\n",
              "      <th>ZeroMeanFilteredOpen</th>\n",
              "    </tr>\n",
              "    <tr>\n",
              "      <th>Date</th>\n",
              "      <th></th>\n",
              "      <th></th>\n",
              "      <th></th>\n",
              "      <th></th>\n",
              "      <th></th>\n",
              "      <th></th>\n",
              "      <th></th>\n",
              "      <th></th>\n",
              "    </tr>\n",
              "  </thead>\n",
              "  <tbody>\n",
              "    <tr>\n",
              "      <th>2000-01-03</th>\n",
              "      <td>1469.250000</td>\n",
              "      <td>1478.000000</td>\n",
              "      <td>1438.359985</td>\n",
              "      <td>1455.219971</td>\n",
              "      <td>1455.219971</td>\n",
              "      <td>931800000</td>\n",
              "      <td>1509.891113</td>\n",
              "      <td>-19.092654</td>\n",
              "    </tr>\n",
              "    <tr>\n",
              "      <th>2000-01-04</th>\n",
              "      <td>1455.219971</td>\n",
              "      <td>1455.219971</td>\n",
              "      <td>1397.430054</td>\n",
              "      <td>1399.420044</td>\n",
              "      <td>1399.420044</td>\n",
              "      <td>1009000000</td>\n",
              "      <td>1460.423078</td>\n",
              "      <td>-68.560689</td>\n",
              "    </tr>\n",
              "    <tr>\n",
              "      <th>2000-01-05</th>\n",
              "      <td>1399.420044</td>\n",
              "      <td>1413.270020</td>\n",
              "      <td>1377.680054</td>\n",
              "      <td>1402.109985</td>\n",
              "      <td>1402.109985</td>\n",
              "      <td>1085500000</td>\n",
              "      <td>1438.658516</td>\n",
              "      <td>-90.325251</td>\n",
              "    </tr>\n",
              "    <tr>\n",
              "      <th>2000-01-06</th>\n",
              "      <td>1402.109985</td>\n",
              "      <td>1411.900024</td>\n",
              "      <td>1392.099976</td>\n",
              "      <td>1403.449951</td>\n",
              "      <td>1403.449951</td>\n",
              "      <td>1092300000</td>\n",
              "      <td>1386.279016</td>\n",
              "      <td>-142.704751</td>\n",
              "    </tr>\n",
              "    <tr>\n",
              "      <th>2000-01-07</th>\n",
              "      <td>1403.449951</td>\n",
              "      <td>1441.469971</td>\n",
              "      <td>1400.729980</td>\n",
              "      <td>1441.469971</td>\n",
              "      <td>1441.469971</td>\n",
              "      <td>1225200000</td>\n",
              "      <td>1399.262688</td>\n",
              "      <td>-129.721079</td>\n",
              "    </tr>\n",
              "    <tr>\n",
              "      <th>...</th>\n",
              "      <td>...</td>\n",
              "      <td>...</td>\n",
              "      <td>...</td>\n",
              "      <td>...</td>\n",
              "      <td>...</td>\n",
              "      <td>...</td>\n",
              "      <td>...</td>\n",
              "      <td>...</td>\n",
              "    </tr>\n",
              "    <tr>\n",
              "      <th>2019-05-10</th>\n",
              "      <td>2863.100098</td>\n",
              "      <td>2891.310059</td>\n",
              "      <td>2825.389893</td>\n",
              "      <td>2881.399902</td>\n",
              "      <td>2881.399902</td>\n",
              "      <td>3529600000</td>\n",
              "      <td>2871.153391</td>\n",
              "      <td>1342.169625</td>\n",
              "    </tr>\n",
              "    <tr>\n",
              "      <th>2019-05-13</th>\n",
              "      <td>2840.189941</td>\n",
              "      <td>2840.189941</td>\n",
              "      <td>2801.429932</td>\n",
              "      <td>2811.870117</td>\n",
              "      <td>2811.870117</td>\n",
              "      <td>3894030000</td>\n",
              "      <td>2856.303768</td>\n",
              "      <td>1327.320001</td>\n",
              "    </tr>\n",
              "    <tr>\n",
              "      <th>2019-05-14</th>\n",
              "      <td>2820.120117</td>\n",
              "      <td>2852.540039</td>\n",
              "      <td>2820.120117</td>\n",
              "      <td>2834.409912</td>\n",
              "      <td>2834.409912</td>\n",
              "      <td>3322720000</td>\n",
              "      <td>2844.617713</td>\n",
              "      <td>1315.633947</td>\n",
              "    </tr>\n",
              "    <tr>\n",
              "      <th>2019-05-15</th>\n",
              "      <td>2820.379883</td>\n",
              "      <td>2858.679932</td>\n",
              "      <td>2815.080078</td>\n",
              "      <td>2850.959961</td>\n",
              "      <td>2850.959961</td>\n",
              "      <td>3125950000</td>\n",
              "      <td>2840.351719</td>\n",
              "      <td>1311.367953</td>\n",
              "    </tr>\n",
              "    <tr>\n",
              "      <th>2019-05-16</th>\n",
              "      <td>2855.800049</td>\n",
              "      <td>2892.149902</td>\n",
              "      <td>2855.800049</td>\n",
              "      <td>2876.320068</td>\n",
              "      <td>2876.320068</td>\n",
              "      <td>3338060000</td>\n",
              "      <td>2839.855921</td>\n",
              "      <td>1310.872155</td>\n",
              "    </tr>\n",
              "  </tbody>\n",
              "</table>\n",
              "<p>4873 rows × 8 columns</p>\n",
              "</div>"
            ],
            "text/plain": [
              "                   Open         High  ...  FilteredOpen  ZeroMeanFilteredOpen\n",
              "Date                                  ...                                    \n",
              "2000-01-03  1469.250000  1478.000000  ...   1509.891113            -19.092654\n",
              "2000-01-04  1455.219971  1455.219971  ...   1460.423078            -68.560689\n",
              "2000-01-05  1399.420044  1413.270020  ...   1438.658516            -90.325251\n",
              "2000-01-06  1402.109985  1411.900024  ...   1386.279016           -142.704751\n",
              "2000-01-07  1403.449951  1441.469971  ...   1399.262688           -129.721079\n",
              "...                 ...          ...  ...           ...                   ...\n",
              "2019-05-10  2863.100098  2891.310059  ...   2871.153391           1342.169625\n",
              "2019-05-13  2840.189941  2840.189941  ...   2856.303768           1327.320001\n",
              "2019-05-14  2820.120117  2852.540039  ...   2844.617713           1315.633947\n",
              "2019-05-15  2820.379883  2858.679932  ...   2840.351719           1311.367953\n",
              "2019-05-16  2855.800049  2892.149902  ...   2839.855921           1310.872155\n",
              "\n",
              "[4873 rows x 8 columns]"
            ]
          },
          "metadata": {
            "tags": []
          },
          "execution_count": 195
        }
      ]
    },
    {
      "cell_type": "code",
      "metadata": {
        "colab": {
          "base_uri": "https://localhost:8080/",
          "height": 1000
        },
        "id": "6RgdWpik3GCx",
        "outputId": "c3f72235-a008-4595-f865-eb2387ac7468"
      },
      "source": [
        "test['ZeroMeanFilteredOpen']=test['FilteredOpen'].subtract(mean_FilteredOpen) \r\n",
        "test"
      ],
      "execution_count": 196,
      "outputs": [
        {
          "output_type": "stream",
          "text": [
            "/usr/local/lib/python3.6/dist-packages/ipykernel_launcher.py:1: SettingWithCopyWarning: \n",
            "A value is trying to be set on a copy of a slice from a DataFrame.\n",
            "Try using .loc[row_indexer,col_indexer] = value instead\n",
            "\n",
            "See the caveats in the documentation: https://pandas.pydata.org/pandas-docs/stable/user_guide/indexing.html#returning-a-view-versus-a-copy\n",
            "  \"\"\"Entry point for launching an IPython kernel.\n"
          ],
          "name": "stderr"
        },
        {
          "output_type": "execute_result",
          "data": {
            "text/html": [
              "<div>\n",
              "<style scoped>\n",
              "    .dataframe tbody tr th:only-of-type {\n",
              "        vertical-align: middle;\n",
              "    }\n",
              "\n",
              "    .dataframe tbody tr th {\n",
              "        vertical-align: top;\n",
              "    }\n",
              "\n",
              "    .dataframe thead th {\n",
              "        text-align: right;\n",
              "    }\n",
              "</style>\n",
              "<table border=\"1\" class=\"dataframe\">\n",
              "  <thead>\n",
              "    <tr style=\"text-align: right;\">\n",
              "      <th></th>\n",
              "      <th>Open</th>\n",
              "      <th>High</th>\n",
              "      <th>Low</th>\n",
              "      <th>Close</th>\n",
              "      <th>Adj Close</th>\n",
              "      <th>Volume</th>\n",
              "      <th>FilteredOpen</th>\n",
              "      <th>ZeroMeanFilteredOpen</th>\n",
              "    </tr>\n",
              "    <tr>\n",
              "      <th>Date</th>\n",
              "      <th></th>\n",
              "      <th></th>\n",
              "      <th></th>\n",
              "      <th></th>\n",
              "      <th></th>\n",
              "      <th></th>\n",
              "      <th></th>\n",
              "      <th></th>\n",
              "    </tr>\n",
              "  </thead>\n",
              "  <tbody>\n",
              "    <tr>\n",
              "      <th>2019-05-15</th>\n",
              "      <td>2820.379883</td>\n",
              "      <td>2858.679932</td>\n",
              "      <td>2815.080078</td>\n",
              "      <td>2850.959961</td>\n",
              "      <td>2850.959961</td>\n",
              "      <td>3125950000</td>\n",
              "      <td>2840.351719</td>\n",
              "      <td>1311.367953</td>\n",
              "    </tr>\n",
              "    <tr>\n",
              "      <th>2019-05-16</th>\n",
              "      <td>2855.800049</td>\n",
              "      <td>2892.149902</td>\n",
              "      <td>2855.800049</td>\n",
              "      <td>2876.320068</td>\n",
              "      <td>2876.320068</td>\n",
              "      <td>3338060000</td>\n",
              "      <td>2839.855921</td>\n",
              "      <td>1310.872155</td>\n",
              "    </tr>\n",
              "    <tr>\n",
              "      <th>2019-05-17</th>\n",
              "      <td>2858.600098</td>\n",
              "      <td>2885.479980</td>\n",
              "      <td>2854.229980</td>\n",
              "      <td>2859.530029</td>\n",
              "      <td>2859.530029</td>\n",
              "      <td>3257950000</td>\n",
              "      <td>2839.645614</td>\n",
              "      <td>1310.661848</td>\n",
              "    </tr>\n",
              "    <tr>\n",
              "      <th>2019-05-20</th>\n",
              "      <td>2841.939941</td>\n",
              "      <td>2853.860107</td>\n",
              "      <td>2831.290039</td>\n",
              "      <td>2840.229980</td>\n",
              "      <td>2840.229980</td>\n",
              "      <td>3288870000</td>\n",
              "      <td>2838.708026</td>\n",
              "      <td>1309.724259</td>\n",
              "    </tr>\n",
              "    <tr>\n",
              "      <th>2019-05-21</th>\n",
              "      <td>2854.020020</td>\n",
              "      <td>2868.879883</td>\n",
              "      <td>2854.020020</td>\n",
              "      <td>2864.360107</td>\n",
              "      <td>2864.360107</td>\n",
              "      <td>3218700000</td>\n",
              "      <td>2834.590995</td>\n",
              "      <td>1305.607228</td>\n",
              "    </tr>\n",
              "    <tr>\n",
              "      <th>2019-05-22</th>\n",
              "      <td>2856.060059</td>\n",
              "      <td>2865.469971</td>\n",
              "      <td>2851.110107</td>\n",
              "      <td>2856.270020</td>\n",
              "      <td>2856.270020</td>\n",
              "      <td>3192510000</td>\n",
              "      <td>2828.357791</td>\n",
              "      <td>1299.374024</td>\n",
              "    </tr>\n",
              "    <tr>\n",
              "      <th>2019-05-23</th>\n",
              "      <td>2836.699951</td>\n",
              "      <td>2836.699951</td>\n",
              "      <td>2805.489990</td>\n",
              "      <td>2822.239990</td>\n",
              "      <td>2822.239990</td>\n",
              "      <td>3891980000</td>\n",
              "      <td>2822.287244</td>\n",
              "      <td>1293.303477</td>\n",
              "    </tr>\n",
              "    <tr>\n",
              "      <th>2019-05-24</th>\n",
              "      <td>2832.409912</td>\n",
              "      <td>2841.360107</td>\n",
              "      <td>2820.189941</td>\n",
              "      <td>2826.060059</td>\n",
              "      <td>2826.060059</td>\n",
              "      <td>2887390000</td>\n",
              "      <td>2814.062342</td>\n",
              "      <td>1285.078576</td>\n",
              "    </tr>\n",
              "    <tr>\n",
              "      <th>2019-05-28</th>\n",
              "      <td>2830.030029</td>\n",
              "      <td>2840.510010</td>\n",
              "      <td>2801.580078</td>\n",
              "      <td>2802.389893</td>\n",
              "      <td>2802.389893</td>\n",
              "      <td>4121410000</td>\n",
              "      <td>2801.668160</td>\n",
              "      <td>1272.684393</td>\n",
              "    </tr>\n",
              "    <tr>\n",
              "      <th>2019-05-29</th>\n",
              "      <td>2790.250000</td>\n",
              "      <td>2792.030029</td>\n",
              "      <td>2766.060059</td>\n",
              "      <td>2783.020020</td>\n",
              "      <td>2783.020020</td>\n",
              "      <td>3700050000</td>\n",
              "      <td>2788.642299</td>\n",
              "      <td>1259.658532</td>\n",
              "    </tr>\n",
              "    <tr>\n",
              "      <th>2019-05-30</th>\n",
              "      <td>2786.939941</td>\n",
              "      <td>2799.000000</td>\n",
              "      <td>2776.739990</td>\n",
              "      <td>2788.860107</td>\n",
              "      <td>2788.860107</td>\n",
              "      <td>3273790000</td>\n",
              "      <td>2777.263788</td>\n",
              "      <td>1248.280022</td>\n",
              "    </tr>\n",
              "    <tr>\n",
              "      <th>2019-05-31</th>\n",
              "      <td>2766.149902</td>\n",
              "      <td>2768.979980</td>\n",
              "      <td>2750.520020</td>\n",
              "      <td>2752.060059</td>\n",
              "      <td>2752.060059</td>\n",
              "      <td>3981020000</td>\n",
              "      <td>2771.007902</td>\n",
              "      <td>1242.024135</td>\n",
              "    </tr>\n",
              "    <tr>\n",
              "      <th>2019-06-03</th>\n",
              "      <td>2751.530029</td>\n",
              "      <td>2763.070068</td>\n",
              "      <td>2728.810059</td>\n",
              "      <td>2744.449951</td>\n",
              "      <td>2744.449951</td>\n",
              "      <td>3943810000</td>\n",
              "      <td>2774.572806</td>\n",
              "      <td>1245.589039</td>\n",
              "    </tr>\n",
              "    <tr>\n",
              "      <th>2019-06-04</th>\n",
              "      <td>2762.639893</td>\n",
              "      <td>2804.489990</td>\n",
              "      <td>2762.639893</td>\n",
              "      <td>2803.270020</td>\n",
              "      <td>2803.270020</td>\n",
              "      <td>3810430000</td>\n",
              "      <td>2784.565304</td>\n",
              "      <td>1255.581537</td>\n",
              "    </tr>\n",
              "    <tr>\n",
              "      <th>2019-06-05</th>\n",
              "      <td>2818.090088</td>\n",
              "      <td>2827.280029</td>\n",
              "      <td>2800.919922</td>\n",
              "      <td>2826.149902</td>\n",
              "      <td>2826.149902</td>\n",
              "      <td>3548830000</td>\n",
              "      <td>2797.281600</td>\n",
              "      <td>1268.297834</td>\n",
              "    </tr>\n",
              "    <tr>\n",
              "      <th>2019-06-06</th>\n",
              "      <td>2828.510010</td>\n",
              "      <td>2852.100098</td>\n",
              "      <td>2822.449951</td>\n",
              "      <td>2843.489990</td>\n",
              "      <td>2843.489990</td>\n",
              "      <td>3396410000</td>\n",
              "      <td>2812.755194</td>\n",
              "      <td>1283.771427</td>\n",
              "    </tr>\n",
              "    <tr>\n",
              "      <th>2019-06-07</th>\n",
              "      <td>2852.870117</td>\n",
              "      <td>2884.969971</td>\n",
              "      <td>2852.870117</td>\n",
              "      <td>2873.340088</td>\n",
              "      <td>2873.340088</td>\n",
              "      <td>3220250000</td>\n",
              "      <td>2829.492196</td>\n",
              "      <td>1300.508429</td>\n",
              "    </tr>\n",
              "    <tr>\n",
              "      <th>2019-06-10</th>\n",
              "      <td>2885.830078</td>\n",
              "      <td>2904.770020</td>\n",
              "      <td>2885.510010</td>\n",
              "      <td>2886.729980</td>\n",
              "      <td>2886.729980</td>\n",
              "      <td>3209210000</td>\n",
              "      <td>2846.765050</td>\n",
              "      <td>1317.781283</td>\n",
              "    </tr>\n",
              "    <tr>\n",
              "      <th>2019-06-11</th>\n",
              "      <td>2903.270020</td>\n",
              "      <td>2910.610107</td>\n",
              "      <td>2878.530029</td>\n",
              "      <td>2885.719971</td>\n",
              "      <td>2885.719971</td>\n",
              "      <td>3548420000</td>\n",
              "      <td>2865.675100</td>\n",
              "      <td>1336.691333</td>\n",
              "    </tr>\n",
              "    <tr>\n",
              "      <th>2019-06-12</th>\n",
              "      <td>2882.729980</td>\n",
              "      <td>2888.570068</td>\n",
              "      <td>2874.679932</td>\n",
              "      <td>2879.840088</td>\n",
              "      <td>2879.840088</td>\n",
              "      <td>3034130000</td>\n",
              "      <td>2881.348047</td>\n",
              "      <td>1352.364280</td>\n",
              "    </tr>\n",
              "    <tr>\n",
              "      <th>2019-06-13</th>\n",
              "      <td>2886.239990</td>\n",
              "      <td>2895.239990</td>\n",
              "      <td>2881.989990</td>\n",
              "      <td>2891.639893</td>\n",
              "      <td>2891.639893</td>\n",
              "      <td>3069810000</td>\n",
              "      <td>2888.030922</td>\n",
              "      <td>1359.047156</td>\n",
              "    </tr>\n",
              "    <tr>\n",
              "      <th>2019-06-14</th>\n",
              "      <td>2886.820068</td>\n",
              "      <td>2894.449951</td>\n",
              "      <td>2879.620117</td>\n",
              "      <td>2886.979980</td>\n",
              "      <td>2886.979980</td>\n",
              "      <td>2922330000</td>\n",
              "      <td>2891.301565</td>\n",
              "      <td>1362.317798</td>\n",
              "    </tr>\n",
              "    <tr>\n",
              "      <th>2019-06-17</th>\n",
              "      <td>2889.750000</td>\n",
              "      <td>2897.270020</td>\n",
              "      <td>2887.300049</td>\n",
              "      <td>2889.669922</td>\n",
              "      <td>2889.669922</td>\n",
              "      <td>2810140000</td>\n",
              "      <td>2895.894936</td>\n",
              "      <td>1366.911170</td>\n",
              "    </tr>\n",
              "    <tr>\n",
              "      <th>2019-06-18</th>\n",
              "      <td>2906.709961</td>\n",
              "      <td>2930.790039</td>\n",
              "      <td>2905.439941</td>\n",
              "      <td>2917.750000</td>\n",
              "      <td>2917.750000</td>\n",
              "      <td>3437620000</td>\n",
              "      <td>2902.414489</td>\n",
              "      <td>1373.430723</td>\n",
              "    </tr>\n",
              "    <tr>\n",
              "      <th>2019-06-19</th>\n",
              "      <td>2920.550049</td>\n",
              "      <td>2931.739990</td>\n",
              "      <td>2911.429932</td>\n",
              "      <td>2926.459961</td>\n",
              "      <td>2926.459961</td>\n",
              "      <td>3287890000</td>\n",
              "      <td>2912.653748</td>\n",
              "      <td>1383.669981</td>\n",
              "    </tr>\n",
              "    <tr>\n",
              "      <th>2019-06-20</th>\n",
              "      <td>2949.600098</td>\n",
              "      <td>2958.060059</td>\n",
              "      <td>2931.500000</td>\n",
              "      <td>2954.179932</td>\n",
              "      <td>2954.179932</td>\n",
              "      <td>3905940000</td>\n",
              "      <td>2923.124454</td>\n",
              "      <td>1394.140687</td>\n",
              "    </tr>\n",
              "    <tr>\n",
              "      <th>2019-06-21</th>\n",
              "      <td>2952.709961</td>\n",
              "      <td>2964.149902</td>\n",
              "      <td>2946.870117</td>\n",
              "      <td>2950.459961</td>\n",
              "      <td>2950.459961</td>\n",
              "      <td>5000120000</td>\n",
              "      <td>2933.583623</td>\n",
              "      <td>1404.599857</td>\n",
              "    </tr>\n",
              "    <tr>\n",
              "      <th>2019-06-24</th>\n",
              "      <td>2951.419922</td>\n",
              "      <td>2954.919922</td>\n",
              "      <td>2944.050049</td>\n",
              "      <td>2945.350098</td>\n",
              "      <td>2945.350098</td>\n",
              "      <td>3136250000</td>\n",
              "      <td>2941.248339</td>\n",
              "      <td>1412.264572</td>\n",
              "    </tr>\n",
              "    <tr>\n",
              "      <th>2019-06-25</th>\n",
              "      <td>2945.780029</td>\n",
              "      <td>2946.520020</td>\n",
              "      <td>2916.010010</td>\n",
              "      <td>2917.379883</td>\n",
              "      <td>2917.379883</td>\n",
              "      <td>3578050000</td>\n",
              "      <td>2911.075968</td>\n",
              "      <td>1382.092201</td>\n",
              "    </tr>\n",
              "    <tr>\n",
              "      <th>2019-06-26</th>\n",
              "      <td>2926.070068</td>\n",
              "      <td>2932.590088</td>\n",
              "      <td>2912.989990</td>\n",
              "      <td>2913.780029</td>\n",
              "      <td>2913.780029</td>\n",
              "      <td>3478130000</td>\n",
              "      <td>2913.774021</td>\n",
              "      <td>1384.790254</td>\n",
              "    </tr>\n",
              "    <tr>\n",
              "      <th>2019-06-27</th>\n",
              "      <td>2919.659912</td>\n",
              "      <td>2929.300049</td>\n",
              "      <td>2918.570068</td>\n",
              "      <td>2924.919922</td>\n",
              "      <td>2924.919922</td>\n",
              "      <td>3122920000</td>\n",
              "      <td>2913.647693</td>\n",
              "      <td>1384.663926</td>\n",
              "    </tr>\n",
              "    <tr>\n",
              "      <th>2019-06-28</th>\n",
              "      <td>2932.939941</td>\n",
              "      <td>2943.979980</td>\n",
              "      <td>2929.050049</td>\n",
              "      <td>2941.760010</td>\n",
              "      <td>2941.760010</td>\n",
              "      <td>5420700000</td>\n",
              "      <td>2877.860699</td>\n",
              "      <td>1348.876932</td>\n",
              "    </tr>\n",
              "    <tr>\n",
              "      <th>2019-07-01</th>\n",
              "      <td>2971.409912</td>\n",
              "      <td>2977.929932</td>\n",
              "      <td>2952.219971</td>\n",
              "      <td>2964.330078</td>\n",
              "      <td>2964.330078</td>\n",
              "      <td>3513270000</td>\n",
              "      <td>2924.416300</td>\n",
              "      <td>1395.432533</td>\n",
              "    </tr>\n",
              "  </tbody>\n",
              "</table>\n",
              "</div>"
            ],
            "text/plain": [
              "                   Open         High  ...  FilteredOpen  ZeroMeanFilteredOpen\n",
              "Date                                  ...                                    \n",
              "2019-05-15  2820.379883  2858.679932  ...   2840.351719           1311.367953\n",
              "2019-05-16  2855.800049  2892.149902  ...   2839.855921           1310.872155\n",
              "2019-05-17  2858.600098  2885.479980  ...   2839.645614           1310.661848\n",
              "2019-05-20  2841.939941  2853.860107  ...   2838.708026           1309.724259\n",
              "2019-05-21  2854.020020  2868.879883  ...   2834.590995           1305.607228\n",
              "2019-05-22  2856.060059  2865.469971  ...   2828.357791           1299.374024\n",
              "2019-05-23  2836.699951  2836.699951  ...   2822.287244           1293.303477\n",
              "2019-05-24  2832.409912  2841.360107  ...   2814.062342           1285.078576\n",
              "2019-05-28  2830.030029  2840.510010  ...   2801.668160           1272.684393\n",
              "2019-05-29  2790.250000  2792.030029  ...   2788.642299           1259.658532\n",
              "2019-05-30  2786.939941  2799.000000  ...   2777.263788           1248.280022\n",
              "2019-05-31  2766.149902  2768.979980  ...   2771.007902           1242.024135\n",
              "2019-06-03  2751.530029  2763.070068  ...   2774.572806           1245.589039\n",
              "2019-06-04  2762.639893  2804.489990  ...   2784.565304           1255.581537\n",
              "2019-06-05  2818.090088  2827.280029  ...   2797.281600           1268.297834\n",
              "2019-06-06  2828.510010  2852.100098  ...   2812.755194           1283.771427\n",
              "2019-06-07  2852.870117  2884.969971  ...   2829.492196           1300.508429\n",
              "2019-06-10  2885.830078  2904.770020  ...   2846.765050           1317.781283\n",
              "2019-06-11  2903.270020  2910.610107  ...   2865.675100           1336.691333\n",
              "2019-06-12  2882.729980  2888.570068  ...   2881.348047           1352.364280\n",
              "2019-06-13  2886.239990  2895.239990  ...   2888.030922           1359.047156\n",
              "2019-06-14  2886.820068  2894.449951  ...   2891.301565           1362.317798\n",
              "2019-06-17  2889.750000  2897.270020  ...   2895.894936           1366.911170\n",
              "2019-06-18  2906.709961  2930.790039  ...   2902.414489           1373.430723\n",
              "2019-06-19  2920.550049  2931.739990  ...   2912.653748           1383.669981\n",
              "2019-06-20  2949.600098  2958.060059  ...   2923.124454           1394.140687\n",
              "2019-06-21  2952.709961  2964.149902  ...   2933.583623           1404.599857\n",
              "2019-06-24  2951.419922  2954.919922  ...   2941.248339           1412.264572\n",
              "2019-06-25  2945.780029  2946.520020  ...   2911.075968           1382.092201\n",
              "2019-06-26  2926.070068  2932.590088  ...   2913.774021           1384.790254\n",
              "2019-06-27  2919.659912  2929.300049  ...   2913.647693           1384.663926\n",
              "2019-06-28  2932.939941  2943.979980  ...   2877.860699           1348.876932\n",
              "2019-07-01  2971.409912  2977.929932  ...   2924.416300           1395.432533\n",
              "\n",
              "[33 rows x 8 columns]"
            ]
          },
          "metadata": {
            "tags": []
          },
          "execution_count": 196
        }
      ]
    },
    {
      "cell_type": "markdown",
      "metadata": {
        "id": "IOtIMBSl_T6K"
      },
      "source": [
        "### Step 7: Transform Open, FilteredOpen, and ZeroMeanFilteredOpen with StandardScaler\n",
        "After creating ZeroMeanFilteredOpen, we'll proceed with feature scaling. \n",
        "\n",
        "This step was not mentioned in the paper, but it's good practice to do so for training. \n",
        "\n",
        "First, let's declare three variables containing a StandardScaler, without any additional parameters. \n",
        "\n",
        "We can't use the same scaler for the three Opens because we'll be using the scaler to un-scale predictions as well so the scaler properties must be specific to each Open data.\n",
        "\n",
        "Then, we'll scale our column values and use that for training.\n",
        "\n",
        "Note: If you have an error that goes <strong>\"Reshape your data either using array.reshape(-1, 1) if your data has a single feature or array.reshape(1, -1) if it contains a single sample.\"</strong>, you used a Series. \n",
        "\n",
        "Either use a DataFrame containing only the Open/FilteredOpen/ZeroMeanFilteredOpen column, or a (-1, 1) reshape to reshape your the np.array of your Series."
      ]
    },
    {
      "cell_type": "code",
      "metadata": {
        "id": "qHhvWe5LmtFF"
      },
      "source": [
        "# Step 7a: Declare a StandardScaler for Open\n",
        "\n",
        "# Step 7b: Call .fit_transform on the 'Open' column values from your train dataset\n",
        "\n",
        "\n",
        "# Step 7c: Declare a StandardScaler for FilteredOpen\n",
        "\n",
        "# Step 7d: Call .fit_transform on the 'FilteredOpen' column values from your train dataset\n",
        "\n",
        "\n",
        "# Step 7e: Declare a StandardScaler for ZeroMeanFilteredOpen\n",
        "\n",
        "# Step 7f: Call .fit_transform on the 'ZeroMeanFilteredOpen' column values from your train dataset\n"
      ],
      "execution_count": null,
      "outputs": []
    },
    {
      "cell_type": "code",
      "metadata": {
        "id": "IAYkZGNw_62H"
      },
      "source": [
        "scaler_Open = StandardScaler()\r\n",
        "Open=scaler_open.fit_transform(train[['Open']])\r\n",
        "scaler_FilteredOpen = StandardScaler()\r\n",
        "FilteredOpen=scaler_FilteredOpen.fit_transform(train[['FilteredOpen']])\r\n",
        "scaler_ZeroMeanFilteredOpen = StandardScaler()\r\n",
        "ZeroMeanFilteredOpen=scaler_ZeroMeanFilteredOpen.fit_transform(train[['ZeroMeanFilteredOpen']])"
      ],
      "execution_count": 197,
      "outputs": []
    },
    {
      "cell_type": "markdown",
      "metadata": {
        "id": "e9TgQa2vFyL5"
      },
      "source": [
        "### Step 8: Prepare create arrays for training\n",
        "A bit of context on why we're creating more arrays. For LSTM, we're taking a sequence of data and predicting an output in the end. \n",
        "\n",
        "In our case, we're taking a window of two prices in sequence, and predicting the next one.\n",
        "\n",
        "![LSTMTrainingWindow](https://uplevelsg.s3-ap-southeast-1.amazonaws.com/ProjectFinancexLSTM/LSTMTrainingWindow.png)\n",
        "\n",
        "This is why we had the small overlap - so that we have enough data to predict for the \"first\" day of our test data, which the authors said was 17th May 2019.\n",
        "\n",
        "<strong>You will create a list of length-2 NumPy arrays for your train data, and a NumPy array of prices for your test data.</strong>\n",
        "\n",
        "Something like this for the scaled 'Open':\n",
        "\n",
        "![OpenXyTrainList](https://uplevelsg.s3-ap-southeast-1.amazonaws.com/ProjectFinancexLSTM/OpenXyTrainList.png)\n",
        "\n",
        "Expect six variables after running this step. Three sets of X train lists and y train lists for \"Open\", \"FilteredOpen\", and \"ZeroMeanFilteredOpen\"."
      ]
    },
    {
      "cell_type": "markdown",
      "metadata": {
        "id": "0026ObmNDXqi"
      },
      "source": [
        "<details>\n",
        "    <summary>Click for instructions if you're stuck</summary>\n",
        "    <div>\n",
        "        <ol>\n",
        "            <li>Declare list for X train</li>\n",
        "            <li>Declare list for y train</li>\n",
        "            <li>Loop through your scaled \"Open\" values using a for loop and range function</li>\n",
        "              <ul>\n",
        "                  <li>Start at index 2 and end at the last index, so you'll need to configure your range</li>\n",
        "                  <li>Append your X train list with an array containing items from 1 and 2 indices before, i.e. if I am at index 2, I should be appending a NumPy array containing items from index 0 and 1</li>\n",
        "                  <li>Append your y train list with the item from the current index</li>\n",
        "              </ul>\n",
        "            <li>Don't forget that the scaled values from Step 7 are in a NumPy array as well so you need to reshape your sliced array</li>\n",
        "        </ol>\n",
        "    </div>\n",
        "    <div>\n",
        "        <p>Tweak the values around like [i-2:i, y] as your slicing (figure what y is and you'll be fine)</p>\n",
        "    </div>\n",
        "</details>\n",
        "\n"
      ]
    },
    {
      "cell_type": "code",
      "metadata": {
        "id": "-UVPzBW48EuY"
      },
      "source": [
        "# Step 8a: Prepare X train and y train using scaled \"Open\"\n",
        "\n",
        "# Step 8b: Prepare X train and y train using scaled \"FilteredOpen\"\n",
        "\n",
        "# Step 8c: Prepare X train and y train using scaled \"ZeroMeanFilteredOpen\""
      ],
      "execution_count": null,
      "outputs": []
    },
    {
      "cell_type": "code",
      "metadata": {
        "colab": {
          "base_uri": "https://localhost:8080/"
        },
        "id": "fkcOjmO8LLnn",
        "outputId": "9b354534-3733-476a-f14a-14c8d72564ff"
      },
      "source": [
        "Open[0:10]"
      ],
      "execution_count": 198,
      "outputs": [
        {
          "output_type": "execute_result",
          "data": {
            "text/plain": [
              "array([[-0.1114101 ],\n",
              "       [-0.13761036],\n",
              "       [-0.24181344],\n",
              "       [-0.23679014],\n",
              "       [-0.23428783],\n",
              "       [-0.16328767],\n",
              "       [-0.13316584],\n",
              "       [-0.16872176],\n",
              "       [-0.18050543],\n",
              "       [-0.14795583]])"
            ]
          },
          "metadata": {
            "tags": []
          },
          "execution_count": 198
        }
      ]
    },
    {
      "cell_type": "code",
      "metadata": {
        "id": "fTWf0Uch7tEj"
      },
      "source": [
        "from numpy import array\r\n",
        "def split_sequence(sequence):\r\n",
        "\tX, y = list(), list()\r\n",
        "\tfor i in range(2,len(sequence)):\r\n",
        "\t\t# gather input and output parts of the pattern\r\n",
        "\t\tseq_x, seq_y = sequence[i-2:i], sequence[i]\r\n",
        "\t\tX.append(seq_x)\r\n",
        "\t\ty.append(seq_y)\r\n",
        "\treturn array(X), array(y)"
      ],
      "execution_count": 199,
      "outputs": []
    },
    {
      "cell_type": "code",
      "metadata": {
        "id": "xtm8QsyoP_Ge"
      },
      "source": [
        "X_Open,y_Open=split_sequence(Open)"
      ],
      "execution_count": 200,
      "outputs": []
    },
    {
      "cell_type": "code",
      "metadata": {
        "colab": {
          "base_uri": "https://localhost:8080/"
        },
        "id": "ApsKsUC9GR5B",
        "outputId": "95ff594b-fd0c-408f-83d9-ffcc5f59b779"
      },
      "source": [
        "X_Open\r\n",
        "\r\n",
        "\r\n"
      ],
      "execution_count": 201,
      "outputs": [
        {
          "output_type": "execute_result",
          "data": {
            "text/plain": [
              "array([[[-0.1114101 ],\n",
              "        [-0.13761036]],\n",
              "\n",
              "       [[-0.13761036],\n",
              "        [-0.24181344]],\n",
              "\n",
              "       [[-0.24181344],\n",
              "        [-0.23679014]],\n",
              "\n",
              "       ...,\n",
              "\n",
              "       [[ 2.49152316],\n",
              "        [ 2.44873979]],\n",
              "\n",
              "       [[ 2.44873979],\n",
              "        [ 2.41126057]],\n",
              "\n",
              "       [[ 2.41126057],\n",
              "        [ 2.41174567]]])"
            ]
          },
          "metadata": {
            "tags": []
          },
          "execution_count": 201
        }
      ]
    },
    {
      "cell_type": "code",
      "metadata": {
        "colab": {
          "base_uri": "https://localhost:8080/"
        },
        "id": "_N6sXwLdQXXQ",
        "outputId": "1845ab34-2288-4a27-e43c-7921a5bb3a6f"
      },
      "source": [
        "y_Open"
      ],
      "execution_count": 202,
      "outputs": [
        {
          "output_type": "execute_result",
          "data": {
            "text/plain": [
              "array([[-0.24181344],\n",
              "       [-0.23679014],\n",
              "       [-0.23428783],\n",
              "       ...,\n",
              "       [ 2.41126057],\n",
              "       [ 2.41174567],\n",
              "       [ 2.47789075]])"
            ]
          },
          "metadata": {
            "tags": []
          },
          "execution_count": 202
        }
      ]
    },
    {
      "cell_type": "code",
      "metadata": {
        "id": "vx9ELm7ENj1y"
      },
      "source": [
        "X_FilteredOpen,y_FilteredOpen=split_sequence(FilteredOpen)\r\n",
        "X_ZeroMeanFilteredOpen,y_ZeroMeanFilteredOpen=split_sequence(ZeroMeanFilteredOpen)"
      ],
      "execution_count": 203,
      "outputs": []
    },
    {
      "cell_type": "markdown",
      "metadata": {
        "id": "2gUOX6EvLXba"
      },
      "source": [
        "### Step 9: Turn the X train and y train lists into NumPy arrays\n",
        "Now that you have a list of NumPy arrays, time to turn them into a NumPy array of NumPy arrays.\n",
        "\n",
        "Sounds confusing, we know. That's why we had this as a separate instruction.\n",
        "\n",
        "After you turn the list into a NumPy array, you can look at its .shape attribute and get a (4871,2) for train, and (4871,) for test."
      ]
    },
    {
      "cell_type": "markdown",
      "metadata": {
        "id": "NBAKM9vuMGQm"
      },
      "source": [
        "<details>\n",
        "    <summary>Click once if you need a hint</summary>\n",
        "    <div>\n",
        "        <strong>Google \"convert python list into numpy array\"</strong>\n",
        "    </div>\n",
        "</details>"
      ]
    },
    {
      "cell_type": "code",
      "metadata": {
        "id": "zCS045mdLvTK"
      },
      "source": [
        "# Step 9a: Turn open X train list into NumPy array\n",
        "\n",
        "# Step 9b: Turn open y train list into NumPy array\n",
        "\n",
        "\n",
        "# Step 9a: Turn filtered X train list into NumPy array\n",
        "\n",
        "# Step 9b: Turn filtered y train list into NumPy array\n",
        "\n",
        "\n",
        "# Step 9a: Turn open X train list into NumPy array\n",
        "\n",
        "# Step 9b: Turn open y train list into NumPy array)"
      ],
      "execution_count": null,
      "outputs": []
    },
    {
      "cell_type": "code",
      "metadata": {
        "id": "o56csleQNdtJ"
      },
      "source": [
        "# Optional: Get the shape of your converted arrays"
      ],
      "execution_count": null,
      "outputs": []
    },
    {
      "cell_type": "code",
      "metadata": {
        "colab": {
          "base_uri": "https://localhost:8080/"
        },
        "id": "ykYONVo8sc_0",
        "outputId": "ea2d60b8-38ad-41dd-e66f-dd76655dd621"
      },
      "source": [
        "arr_X_Open = np.array(X_Open)\r\n",
        "arr_X_Open.shape"
      ],
      "execution_count": 204,
      "outputs": [
        {
          "output_type": "execute_result",
          "data": {
            "text/plain": [
              "(4871, 2, 1)"
            ]
          },
          "metadata": {
            "tags": []
          },
          "execution_count": 204
        }
      ]
    },
    {
      "cell_type": "code",
      "metadata": {
        "colab": {
          "base_uri": "https://localhost:8080/"
        },
        "id": "zK4T4fHSs16i",
        "outputId": "67ceb7d6-95f7-48a9-e6f8-6fd58dec208a"
      },
      "source": [
        "arr_y_Open = np.array(y_Open)\r\n",
        "arr_y_Open.shape"
      ],
      "execution_count": 205,
      "outputs": [
        {
          "output_type": "execute_result",
          "data": {
            "text/plain": [
              "(4871, 1)"
            ]
          },
          "metadata": {
            "tags": []
          },
          "execution_count": 205
        }
      ]
    },
    {
      "cell_type": "code",
      "metadata": {
        "id": "zYGFSMeEOBsF"
      },
      "source": [
        "arr_X_FilteredOpen = np.array(X_FilteredOpen)\r\n",
        "arr_X_ZeroMeanFilteredOpen = np.array(X_ZeroMeanFilteredOpen)\r\n",
        "arr_y_FilteredOpen = np.array(y_FilteredOpen)\r\n",
        "arr_y_ZeroMeanFilteredOpen = np.array(y_ZeroMeanFilteredOpen)"
      ],
      "execution_count": 206,
      "outputs": []
    },
    {
      "cell_type": "markdown",
      "metadata": {
        "id": "Lvvk_aHbNzxv"
      },
      "source": [
        "### Step 10: Reshape your X train NumPy arrays\n",
        "We will now reshape our X train arrays from 2D to 3D.\n",
        "\n",
        "Earlier on, you migth have found that our X train arrays have a shape of (4871, 2). Reshape it such that it becomes (4871, 2, 1), a 3D array."
      ]
    },
    {
      "cell_type": "code",
      "metadata": {
        "id": "dE4Mpy3a-FEY"
      },
      "source": [
        "# Step 10a: Reshape your \"Open\" X train array\n",
        "\n",
        "# Step 10b: Reshape your \"FilteredOpen\" X train array\n",
        "\n",
        "# Step 10c: Reshape your \"ZeroMeanFilteredOpen\" X train array"
      ],
      "execution_count": null,
      "outputs": []
    },
    {
      "cell_type": "markdown",
      "metadata": {
        "id": "GCIQUwK3PiR9"
      },
      "source": [
        "# Model building and prediction\n",
        "Now that we've prepared our data, now is the time to build and train the model. Since the authors did not detail their architecture, we'll be using a simple LSTM model architecture in this exercise. \n",
        "\n",
        "Don't worry, it does its job well."
      ]
    },
    {
      "cell_type": "markdown",
      "metadata": {
        "id": "jQr3QuTBP4S4"
      },
      "source": [
        "### Step 11: Set up the model architecture\n",
        "We'll do the following steps to set up a model.\n",
        "\n",
        "1. Declare a variable, and store a Sequential object\n",
        "2. [First layer] Add a LSTM layer\n",
        "  *   50 units\n",
        "  *   return sequences\n",
        "  *   input shape as a tuple with (2, 1)\n",
        "3. [Second layer] Add a Dropout layer, with a rate of 0.3\n",
        "4. [Third layer] Add an LSTM layer\n",
        "  *   50 units\n",
        "5. [Fourth layer] Add a Dropout layer, with a rate of 0.3\n",
        "6. [Fifth layer] Add a Dense layer\n",
        "  *   1 units\n",
        "\n",
        "That's it, you're done. When you call the model's .summary method, you'll see the following:\n",
        "\n",
        "![LSTMModelArchitecture](https://uplevelsg.s3-ap-southeast-1.amazonaws.com/ProjectFinancexLSTM/LSTMModelArchitecture.png)"
      ]
    },
    {
      "cell_type": "code",
      "metadata": {
        "id": "6P7RDFSF-bUo"
      },
      "source": [
        "# Step 11: Set up your model architecture"
      ],
      "execution_count": null,
      "outputs": []
    },
    {
      "cell_type": "code",
      "metadata": {
        "id": "jaxU4TvdtFIz"
      },
      "source": [
        "# define model\r\n",
        "model = Sequential()\r\n",
        "model.add(LSTM(units = 50, return_sequences = True, input_shape = (2, 1)))\r\n",
        "model.add(Dropout(0.3))\r\n",
        "model.add(LSTM(units = 50))\r\n",
        "model.add(Dropout(0.3))\r\n",
        "model.add(Dense(units = 1))\r\n"
      ],
      "execution_count": 207,
      "outputs": []
    },
    {
      "cell_type": "markdown",
      "metadata": {
        "id": "c2mqODHBR9Z3"
      },
      "source": [
        "### Step 12: Compile and fit your model with \"Open\" data\n",
        "Now that you're done setting up, let's start with the \"Open\" data. Do the following next:\n",
        "1. Call the compile method\n",
        "  *    Use the 'adam' optimizer\n",
        "  *    Use mean_squared_error as the loss function\n",
        "2. Call the fit method\n",
        "  *    Use the \"Open\" X train and y train data\n",
        "  *    Have 15 epochs\n",
        "  *    Use a batch size of 32"
      ]
    },
    {
      "cell_type": "code",
      "metadata": {
        "id": "8R-gWEdb-oof"
      },
      "source": [
        "# Step 12: Compile and fit your data"
      ],
      "execution_count": null,
      "outputs": []
    },
    {
      "cell_type": "code",
      "metadata": {
        "colab": {
          "base_uri": "https://localhost:8080/"
        },
        "id": "8fIwCu1GwGwh",
        "outputId": "c4b647cb-df4a-419b-b828-1ceed61f3150"
      },
      "source": [
        "model.summary()"
      ],
      "execution_count": 208,
      "outputs": [
        {
          "output_type": "stream",
          "text": [
            "Model: \"sequential_1\"\n",
            "_________________________________________________________________\n",
            "Layer (type)                 Output Shape              Param #   \n",
            "=================================================================\n",
            "lstm_2 (LSTM)                (None, 2, 50)             10400     \n",
            "_________________________________________________________________\n",
            "dropout_2 (Dropout)          (None, 2, 50)             0         \n",
            "_________________________________________________________________\n",
            "lstm_3 (LSTM)                (None, 50)                20200     \n",
            "_________________________________________________________________\n",
            "dropout_3 (Dropout)          (None, 50)                0         \n",
            "_________________________________________________________________\n",
            "dense_1 (Dense)              (None, 1)                 51        \n",
            "=================================================================\n",
            "Total params: 30,651\n",
            "Trainable params: 30,651\n",
            "Non-trainable params: 0\n",
            "_________________________________________________________________\n"
          ],
          "name": "stdout"
        }
      ]
    },
    {
      "cell_type": "code",
      "metadata": {
        "id": "zeqpWaWcvs8S"
      },
      "source": [
        "model.compile(optimizer = 'adam', loss = 'mean_squared_error')"
      ],
      "execution_count": 209,
      "outputs": []
    },
    {
      "cell_type": "code",
      "metadata": {
        "colab": {
          "base_uri": "https://localhost:8080/"
        },
        "id": "_XiKFXDzvzzh",
        "outputId": "319a0091-529f-4fc0-e78a-8b6cd22ee9d1"
      },
      "source": [
        "model.fit(arr_X_Open, arr_y_Open, epochs = 15, batch_size = 32)"
      ],
      "execution_count": 210,
      "outputs": [
        {
          "output_type": "stream",
          "text": [
            "Epoch 1/15\n",
            "153/153 [==============================] - 4s 4ms/step - loss: 0.4731\n",
            "Epoch 2/15\n",
            "153/153 [==============================] - 1s 4ms/step - loss: 0.0194\n",
            "Epoch 3/15\n",
            "153/153 [==============================] - 1s 5ms/step - loss: 0.0173\n",
            "Epoch 4/15\n",
            "153/153 [==============================] - 1s 4ms/step - loss: 0.0156\n",
            "Epoch 5/15\n",
            "153/153 [==============================] - 1s 5ms/step - loss: 0.0157\n",
            "Epoch 6/15\n",
            "153/153 [==============================] - 1s 5ms/step - loss: 0.0148\n",
            "Epoch 7/15\n",
            "153/153 [==============================] - 1s 4ms/step - loss: 0.0164\n",
            "Epoch 8/15\n",
            "153/153 [==============================] - 1s 4ms/step - loss: 0.0158\n",
            "Epoch 9/15\n",
            "153/153 [==============================] - 1s 4ms/step - loss: 0.0136\n",
            "Epoch 10/15\n",
            "153/153 [==============================] - 1s 5ms/step - loss: 0.0155\n",
            "Epoch 11/15\n",
            "153/153 [==============================] - 1s 4ms/step - loss: 0.0147\n",
            "Epoch 12/15\n",
            "153/153 [==============================] - 1s 5ms/step - loss: 0.0155\n",
            "Epoch 13/15\n",
            "153/153 [==============================] - 1s 5ms/step - loss: 0.0133\n",
            "Epoch 14/15\n",
            "153/153 [==============================] - 1s 4ms/step - loss: 0.0142\n",
            "Epoch 15/15\n",
            "153/153 [==============================] - 1s 5ms/step - loss: 0.0137\n"
          ],
          "name": "stdout"
        },
        {
          "output_type": "execute_result",
          "data": {
            "text/plain": [
              "<tensorflow.python.keras.callbacks.History at 0x7f0ad8e6e320>"
            ]
          },
          "metadata": {
            "tags": []
          },
          "execution_count": 210
        }
      ]
    },
    {
      "cell_type": "markdown",
      "metadata": {
        "id": "iiYP85ApSp-3"
      },
      "source": [
        "### Step 13: Prepare the \"Open\" test data\n",
        "Repeat what you did in Steps 8-10 for the test set.\n",
        " \n",
        "Use the respective scalers with the corresponding test data. For example, scale the \"Open\" from test using the Scaler from Step 7a.\n",
        "\n",
        "Take note that for the reshape step, the dimensions will be different.\n",
        "\n",
        "For \"Open\" test X train, this is what we anticipate to see in the end after repeating the reshape step:\n",
        "\n",
        "![OpenXTestArray](https://uplevelsg.s3-ap-southeast-1.amazonaws.com/ProjectFinancexLSTM/OpenXTestArray.png)"
      ]
    },
    {
      "cell_type": "code",
      "metadata": {
        "id": "LgNKfpszD6d0"
      },
      "source": [
        "# Step 13: Transform, loop, transform, and reshape \"Open\" test X data"
      ],
      "execution_count": null,
      "outputs": []
    },
    {
      "cell_type": "code",
      "metadata": {
        "id": "cKoNKiqZwenC"
      },
      "source": [
        "Open_test=scaler_open.transform(test[['Open']])\r\n",
        "X_Open_test,y_Open_test=split_sequence(Open_test)\r\n",
        "arr_X_Open_test = np.array(X_Open_test)\r\n",
        "arr_y_Open_test = np.array(y_Open_test)\r\n",
        "\r\n",
        "\r\n"
      ],
      "execution_count": 211,
      "outputs": []
    },
    {
      "cell_type": "code",
      "metadata": {
        "colab": {
          "base_uri": "https://localhost:8080/"
        },
        "id": "F0rA7c2F2cWM",
        "outputId": "9eb18b09-ae36-4ef5-c273-48f4ade00e1a"
      },
      "source": [
        "arr_X_Open_test"
      ],
      "execution_count": 212,
      "outputs": [
        {
          "output_type": "execute_result",
          "data": {
            "text/plain": [
              "array([[[2.41174567],\n",
              "        [2.47789075]],\n",
              "\n",
              "       [[2.47789075],\n",
              "        [2.48311968]],\n",
              "\n",
              "       [[2.48311968],\n",
              "        [2.45200781]],\n",
              "\n",
              "       [[2.45200781],\n",
              "        [2.47456665]],\n",
              "\n",
              "       [[2.47456665],\n",
              "        [2.4783763 ]],\n",
              "\n",
              "       [[2.4783763 ],\n",
              "        [2.44222244]],\n",
              "\n",
              "       [[2.44222244],\n",
              "        [2.43421104]],\n",
              "\n",
              "       [[2.43421104],\n",
              "        [2.42976675]],\n",
              "\n",
              "       [[2.42976675],\n",
              "        [2.35547988]],\n",
              "\n",
              "       [[2.35547988],\n",
              "        [2.34929854]],\n",
              "\n",
              "       [[2.34929854],\n",
              "        [2.31047436]],\n",
              "\n",
              "       [[2.31047436],\n",
              "        [2.28317261]],\n",
              "\n",
              "       [[2.28317261],\n",
              "        [2.30391963]],\n",
              "\n",
              "       [[2.30391963],\n",
              "        [2.40746961]],\n",
              "\n",
              "       [[2.40746961],\n",
              "        [2.42692821]],\n",
              "\n",
              "       [[2.42692821],\n",
              "        [2.47241928]],\n",
              "\n",
              "       [[2.47241928],\n",
              "        [2.53397007]],\n",
              "\n",
              "       [[2.53397007],\n",
              "        [2.56653814]],\n",
              "\n",
              "       [[2.56653814],\n",
              "        [2.52818082]],\n",
              "\n",
              "       [[2.52818082],\n",
              "        [2.53473556]],\n",
              "\n",
              "       [[2.53473556],\n",
              "        [2.53581882]],\n",
              "\n",
              "       [[2.53581882],\n",
              "        [2.54129029]],\n",
              "\n",
              "       [[2.54129029],\n",
              "        [2.57296202]],\n",
              "\n",
              "       [[2.57296202],\n",
              "        [2.59880758]],\n",
              "\n",
              "       [[2.59880758],\n",
              "        [2.65305684]],\n",
              "\n",
              "       [[2.65305684],\n",
              "        [2.65886433]],\n",
              "\n",
              "       [[2.65886433],\n",
              "        [2.65645525]],\n",
              "\n",
              "       [[2.65645525],\n",
              "        [2.64592308]],\n",
              "\n",
              "       [[2.64592308],\n",
              "        [2.60911589]],\n",
              "\n",
              "       [[2.60911589],\n",
              "        [2.5971453 ]],\n",
              "\n",
              "       [[2.5971453 ],\n",
              "        [2.62194497]]])"
            ]
          },
          "metadata": {
            "tags": []
          },
          "execution_count": 212
        }
      ]
    },
    {
      "cell_type": "code",
      "metadata": {
        "colab": {
          "base_uri": "https://localhost:8080/"
        },
        "id": "hQmY5KOV0wOo",
        "outputId": "a21f7170-bf9d-4301-cdf7-5a64250da7bc"
      },
      "source": [
        "arr_X_Open_test.shape"
      ],
      "execution_count": 213,
      "outputs": [
        {
          "output_type": "execute_result",
          "data": {
            "text/plain": [
              "(31, 2, 1)"
            ]
          },
          "metadata": {
            "tags": []
          },
          "execution_count": 213
        }
      ]
    },
    {
      "cell_type": "code",
      "metadata": {
        "colab": {
          "base_uri": "https://localhost:8080/"
        },
        "id": "MEsoesOK00rj",
        "outputId": "24e2efa5-a603-46f7-ebe0-b45704e8b9ef"
      },
      "source": [
        "arr_y_Open_test.shape"
      ],
      "execution_count": 214,
      "outputs": [
        {
          "output_type": "execute_result",
          "data": {
            "text/plain": [
              "(31, 1)"
            ]
          },
          "metadata": {
            "tags": []
          },
          "execution_count": 214
        }
      ]
    },
    {
      "cell_type": "markdown",
      "metadata": {
        "id": "GTmnHA_DWo_v"
      },
      "source": [
        "### Step 14: Make your predictions\n",
        "Call the predict method of your model, using the X test data you have prepared in Step 13.\n",
        "\n",
        "The predictions must also be transformed using the .inverse_transform method of your scaler from Step 7. \n",
        "\n",
        "Just ignore any warnings that appear. Don't worry."
      ]
    },
    {
      "cell_type": "code",
      "metadata": {
        "id": "dxM4KJ_CF3F8"
      },
      "source": [
        "# Step 14a: Make the predict method call\n",
        "\n",
        "# Step 14b: Make the inverse_transform call"
      ],
      "execution_count": null,
      "outputs": []
    },
    {
      "cell_type": "code",
      "metadata": {
        "id": "McRb-2m5062t"
      },
      "source": [
        "predicted_open_price = model.predict(arr_X_Open_test)\r\n"
      ],
      "execution_count": 215,
      "outputs": []
    },
    {
      "cell_type": "code",
      "metadata": {
        "colab": {
          "base_uri": "https://localhost:8080/"
        },
        "id": "2mU3o8tN3u9v",
        "outputId": "5c7ffa8d-4a59-4e93-b0ee-1dffb5e51568"
      },
      "source": [
        "predicted_open_price"
      ],
      "execution_count": 216,
      "outputs": [
        {
          "output_type": "execute_result",
          "data": {
            "text/plain": [
              "array([[2.4683092],\n",
              "       [2.5093536],\n",
              "       [2.5043218],\n",
              "       [2.4916437],\n",
              "       [2.5061302],\n",
              "       [2.4989197],\n",
              "       [2.4751189],\n",
              "       [2.4691136],\n",
              "       [2.4466424],\n",
              "       [2.3995757],\n",
              "       [2.3852208],\n",
              "       [2.3536673],\n",
              "       [2.3423336],\n",
              "       [2.3835464],\n",
              "       [2.4521883],\n",
              "       [2.4760141],\n",
              "       [2.5193696],\n",
              "       [2.564105 ],\n",
              "       [2.5733156],\n",
              "       [2.5525272],\n",
              "       [2.5566573],\n",
              "       [2.5587013],\n",
              "       [2.570036 ],\n",
              "       [2.595069 ],\n",
              "       [2.623683 ],\n",
              "       [2.656124 ],\n",
              "       [2.6588233],\n",
              "       [2.654839 ],\n",
              "       [2.639658 ],\n",
              "       [2.6155417],\n",
              "       [2.6149004]], dtype=float32)"
            ]
          },
          "metadata": {
            "tags": []
          },
          "execution_count": 216
        }
      ]
    },
    {
      "cell_type": "code",
      "metadata": {
        "id": "-FqfFkTC11Xg"
      },
      "source": [
        "predicted_open_price = scaler_open.inverse_transform(predicted_open_price)"
      ],
      "execution_count": 217,
      "outputs": []
    },
    {
      "cell_type": "code",
      "metadata": {
        "colab": {
          "base_uri": "https://localhost:8080/"
        },
        "id": "L3gVEzrk4KSW",
        "outputId": "616d0cdf-51c8-437a-8847-d7ecf447ecea"
      },
      "source": [
        "predicted_open_price"
      ],
      "execution_count": 218,
      "outputs": [
        {
          "output_type": "execute_result",
          "data": {
            "text/plain": [
              "array([[2850.6692],\n",
              "       [2872.6482],\n",
              "       [2869.9536],\n",
              "       [2863.1646],\n",
              "       [2870.922 ],\n",
              "       [2867.061 ],\n",
              "       [2854.3157],\n",
              "       [2851.0999],\n",
              "       [2839.067 ],\n",
              "       [2813.863 ],\n",
              "       [2806.176 ],\n",
              "       [2789.2793],\n",
              "       [2783.2102],\n",
              "       [2805.2793],\n",
              "       [2842.0366],\n",
              "       [2854.7952],\n",
              "       [2878.0117],\n",
              "       [2901.967 ],\n",
              "       [2906.8994],\n",
              "       [2895.7673],\n",
              "       [2897.979 ],\n",
              "       [2899.0735],\n",
              "       [2905.143 ],\n",
              "       [2918.548 ],\n",
              "       [2933.8706],\n",
              "       [2951.2427],\n",
              "       [2952.688 ],\n",
              "       [2950.5544],\n",
              "       [2942.425 ],\n",
              "       [2929.511 ],\n",
              "       [2929.1677]], dtype=float32)"
            ]
          },
          "metadata": {
            "tags": []
          },
          "execution_count": 218
        }
      ]
    },
    {
      "cell_type": "markdown",
      "metadata": {
        "id": "CwzFHdoHYOpd"
      },
      "source": [
        "### Step 15: Create a DataFrame for your \"Open\" prediction\n",
        "Now that we're done with prediction, let's create a DataFrame because we need the date index for plotting and comparison.\n",
        "\n",
        "Our DataFrame is 31 rows long, starts on the 17th May 2019 and ends on 1st July 2019.\n",
        "\n",
        "You can borrow the index of your original test DataFrame, but don't forget that DataFrame is 33 rows long. "
      ]
    },
    {
      "cell_type": "code",
      "metadata": {
        "id": "s80jx21kYNTO"
      },
      "source": [
        "# Step 15: Create a DataFrame for your \"Open\" prediction"
      ],
      "execution_count": null,
      "outputs": []
    },
    {
      "cell_type": "code",
      "metadata": {
        "id": "8UOj73o94Ox_"
      },
      "source": [
        "df_open_predict = pd.DataFrame(predicted_open_price, index = test.index[2:34])"
      ],
      "execution_count": 219,
      "outputs": []
    },
    {
      "cell_type": "code",
      "metadata": {
        "colab": {
          "base_uri": "https://localhost:8080/"
        },
        "id": "CShmWHp0_kxr",
        "outputId": "7dd59f88-128f-4c20-975c-b1006f3310cb"
      },
      "source": [
        "len(test.index[2:34])"
      ],
      "execution_count": 220,
      "outputs": [
        {
          "output_type": "execute_result",
          "data": {
            "text/plain": [
              "31"
            ]
          },
          "metadata": {
            "tags": []
          },
          "execution_count": 220
        }
      ]
    },
    {
      "cell_type": "markdown",
      "metadata": {
        "id": "Xlmk64w5bEUY"
      },
      "source": [
        "### Step 16: Plot the \"Open\" prediction with the original test \"Open\"\n",
        "Moment of truth. \n",
        "\n",
        "Let's plot the \"Open\" data from the original test DataFrame, from 17th of May 2019 to 1st of July 2019."
      ]
    },
    {
      "cell_type": "markdown",
      "metadata": {
        "id": "OUqxVwkbbnMe"
      },
      "source": [
        "<details>\n",
        "    <summary><font color = 'green'>SPOILERS! Click once for a look to compare our plot and yours</font></summary>\n",
        "    <div>\n",
        "        <img src = 'https://uplevelsg.s3-ap-southeast-1.amazonaws.com/ProjectFinancexLSTM/OpenPredictionPlot.png'>\n",
        "    </div>\n",
        "</details>"
      ]
    },
    {
      "cell_type": "code",
      "metadata": {
        "id": "RtXgQMcVF_GC"
      },
      "source": [
        "# Step 16: Plot \"Open\" prediction with the original test \"Open\""
      ],
      "execution_count": null,
      "outputs": []
    },
    {
      "cell_type": "code",
      "metadata": {
        "colab": {
          "base_uri": "https://localhost:8080/",
          "height": 537
        },
        "id": "SyC8YaDW6e3_",
        "outputId": "85ec8fe3-9be4-4fd0-ade7-444ca051ab0b"
      },
      "source": [
        "plt.figure(figsize = (16, 9))\r\n",
        "plt.plot(df_open_predict)\r\n",
        "plt.plot(test['Open'][2:])\r\n",
        "plt.legend([\"Predicted Open\", \"Actual Open\"])\r\n",
        "plt.show()\r\n"
      ],
      "execution_count": 221,
      "outputs": [
        {
          "output_type": "display_data",
          "data": {
            "image/png": "[encoded data removed]",
            "text/plain": [
              "<Figure size 1152x648 with 1 Axes>"
            ]
          },
          "metadata": {
            "tags": [],
            "needs_background": "light"
          }
        }
      ]
    },
    {
      "cell_type": "markdown",
      "metadata": {
        "id": "AMJXXPaScIUx"
      },
      "source": [
        "### Step 17: Repeat Steps 11-15 for \"FilteredOpen\" and \"ZeroMeanFilteredOpen\" \n",
        "Now that we've successfully done predictions using data from \"Open\", let's work on \"FilteredOpen\" and \"ZeroMeanFilteredOpen\" next.\n",
        "\n",
        "Don't forget that you have to add the FilteredOpen mean to the predictions for ZeroMeanFilteredOpen."
      ]
    },
    {
      "cell_type": "code",
      "metadata": {
        "id": "HYW3bJ9Lcofu"
      },
      "source": [
        "# Step 17a: Set up your model architecture for FilteredOpen, compile, and fit \"FilteredOpen\" data (Steps 11-12)"
      ],
      "execution_count": null,
      "outputs": []
    },
    {
      "cell_type": "code",
      "metadata": {
        "id": "4vX1Tb37dAPk"
      },
      "source": [
        "# Step 17b: Transform, loop, transform, and reshape \"FilteredOpen\" test X data (Step 13)\n",
        "\n",
        "# Step 17c: Make the predict method and inverse_transform call (Step 14)\n",
        "\n",
        "# Step 17d: Create a DataFrame for your \"FilteredOpen\" prediction (Step 15)"
      ],
      "execution_count": null,
      "outputs": []
    },
    {
      "cell_type": "code",
      "metadata": {
        "id": "qOcbZYMkdUkM"
      },
      "source": [
        "# Step 17e: Set up your model architecture for ZeroMeanFilteredOpen, compile, and fit \"ZeroMeanFilteredOpen\" data (Steps 11-12)"
      ],
      "execution_count": null,
      "outputs": []
    },
    {
      "cell_type": "code",
      "metadata": {
        "id": "vY-eIBYseFqz"
      },
      "source": [
        "# Step 17f: Transform, loop, transform, and reshape \"ZeroMeanFilteredOpen\" test X data (Step 13)\n",
        "\n",
        "# Step 17g: Make the predict method and inverse_transform call (Step 14)\n",
        "\n",
        "# Step 17h: Create a DataFrame for your \"ZeroMeanFilteredOpen\" prediction (Step 15)\n",
        "\n",
        "# Step 17i: Add the FilteredOpen mean (Step 6a) from train DataFrame into all values (reverse the normalization)"
      ],
      "execution_count": null,
      "outputs": []
    },
    {
      "cell_type": "code",
      "metadata": {
        "colab": {
          "base_uri": "https://localhost:8080/"
        },
        "id": "sI7mmZAtPgTs",
        "outputId": "e9ce39ee-8e9a-4575-e1b0-1b86dbc1ea4a"
      },
      "source": [
        "# define model\r\n",
        "model_FilteredOpen = Sequential()\r\n",
        "model_FilteredOpen.add(LSTM(units = 50, return_sequences = True, input_shape = (2, 1)))\r\n",
        "model_FilteredOpen.add(Dropout(0.3))\r\n",
        "model_FilteredOpen.add(LSTM(units = 50))\r\n",
        "model_FilteredOpen.add(Dropout(0.3))\r\n",
        "model_FilteredOpen.add(Dense(units = 1))\r\n",
        "\r\n",
        "model_FilteredOpen.compile(optimizer = 'adam', loss = 'mean_squared_error')\r\n",
        "\r\n",
        "model_FilteredOpen.fit(arr_X_FilteredOpen, arr_y_FilteredOpen, epochs = 15, batch_size = 32)\r\n",
        "\r\n"
      ],
      "execution_count": 222,
      "outputs": [
        {
          "output_type": "stream",
          "text": [
            "Epoch 1/15\n",
            "153/153 [==============================] - 4s 4ms/step - loss: 0.4967\n",
            "Epoch 2/15\n",
            "153/153 [==============================] - 1s 4ms/step - loss: 0.0175\n",
            "Epoch 3/15\n",
            "153/153 [==============================] - 1s 4ms/step - loss: 0.0157\n",
            "Epoch 4/15\n",
            "153/153 [==============================] - 1s 4ms/step - loss: 0.0165\n",
            "Epoch 5/15\n",
            "153/153 [==============================] - 1s 4ms/step - loss: 0.0145\n",
            "Epoch 6/15\n",
            "153/153 [==============================] - 1s 4ms/step - loss: 0.0141\n",
            "Epoch 7/15\n",
            "153/153 [==============================] - 1s 4ms/step - loss: 0.0146\n",
            "Epoch 8/15\n",
            "153/153 [==============================] - 1s 4ms/step - loss: 0.0140\n",
            "Epoch 9/15\n",
            "153/153 [==============================] - 1s 4ms/step - loss: 0.0139\n",
            "Epoch 10/15\n",
            "153/153 [==============================] - 1s 4ms/step - loss: 0.0140\n",
            "Epoch 11/15\n",
            "153/153 [==============================] - 1s 4ms/step - loss: 0.0127\n",
            "Epoch 12/15\n",
            "153/153 [==============================] - 1s 4ms/step - loss: 0.0128\n",
            "Epoch 13/15\n",
            "153/153 [==============================] - 1s 4ms/step - loss: 0.0129\n",
            "Epoch 14/15\n",
            "153/153 [==============================] - 1s 4ms/step - loss: 0.0136\n",
            "Epoch 15/15\n",
            "153/153 [==============================] - 1s 4ms/step - loss: 0.0133\n"
          ],
          "name": "stdout"
        },
        {
          "output_type": "execute_result",
          "data": {
            "text/plain": [
              "<tensorflow.python.keras.callbacks.History at 0x7f0ad7798710>"
            ]
          },
          "metadata": {
            "tags": []
          },
          "execution_count": 222
        }
      ]
    },
    {
      "cell_type": "code",
      "metadata": {
        "id": "_vf4ZV2tQlZL"
      },
      "source": [
        "Open_FilteredOpen=scaler_FilteredOpen.transform(test[['FilteredOpen']])\r\n",
        "X_FilteredOpen_test,y_FilteredOpen_test=split_sequence(Open_FilteredOpen)\r\n",
        "arr_X_FilteredOpen_test = np.array(X_FilteredOpen_test)\r\n",
        "arr_y_FilteredOpen_test = np.array(y_FilteredOpen_test)\r\n",
        "predicted_FilteredOpen_price = model_FilteredOpen.predict(arr_X_FilteredOpen_test)\r\n",
        "predicted_FilteredOpen_price = scaler_FilteredOpen.inverse_transform(predicted_FilteredOpen_price)\r\n",
        "df_FilteredOpen_predict = pd.DataFrame(predicted_FilteredOpen_price, index = test.index[2:34])"
      ],
      "execution_count": 225,
      "outputs": []
    },
    {
      "cell_type": "code",
      "metadata": {
        "colab": {
          "base_uri": "https://localhost:8080/"
        },
        "id": "zQCJ8MbCTDWB",
        "outputId": "8e2e803f-9753-4169-dc6e-73f55001ca90"
      },
      "source": [
        "# define model\r\n",
        "model_ZeroMeanFilteredOpen = Sequential()\r\n",
        "model_ZeroMeanFilteredOpen.add(LSTM(units = 50, return_sequences = True, input_shape = (2, 1)))\r\n",
        "model_ZeroMeanFilteredOpen.add(Dropout(0.3))\r\n",
        "model_ZeroMeanFilteredOpen.add(LSTM(units = 50))\r\n",
        "model_ZeroMeanFilteredOpen.add(Dropout(0.3))\r\n",
        "model_ZeroMeanFilteredOpen.add(Dense(units = 1))\r\n",
        "\r\n",
        "model_ZeroMeanFilteredOpen.compile(optimizer = 'adam', loss = 'mean_squared_error')\r\n",
        "\r\n",
        "model_ZeroMeanFilteredOpen.fit(arr_X_ZeroMeanFilteredOpen, arr_y_ZeroMeanFilteredOpen, epochs = 15, batch_size = 32)"
      ],
      "execution_count": 226,
      "outputs": [
        {
          "output_type": "stream",
          "text": [
            "Epoch 1/15\n",
            "153/153 [==============================] - 4s 4ms/step - loss: 0.4534\n",
            "Epoch 2/15\n",
            "153/153 [==============================] - 1s 4ms/step - loss: 0.0183\n",
            "Epoch 3/15\n",
            "153/153 [==============================] - 1s 4ms/step - loss: 0.0181\n",
            "Epoch 4/15\n",
            "153/153 [==============================] - 1s 5ms/step - loss: 0.0161\n",
            "Epoch 5/15\n",
            "153/153 [==============================] - 1s 4ms/step - loss: 0.0156\n",
            "Epoch 6/15\n",
            "153/153 [==============================] - 1s 4ms/step - loss: 0.0149\n",
            "Epoch 7/15\n",
            "153/153 [==============================] - 1s 4ms/step - loss: 0.0138\n",
            "Epoch 8/15\n",
            "153/153 [==============================] - 1s 5ms/step - loss: 0.0142\n",
            "Epoch 9/15\n",
            "153/153 [==============================] - 1s 4ms/step - loss: 0.0153\n",
            "Epoch 10/15\n",
            "153/153 [==============================] - 1s 4ms/step - loss: 0.0126\n",
            "Epoch 11/15\n",
            "153/153 [==============================] - 1s 4ms/step - loss: 0.0134\n",
            "Epoch 12/15\n",
            "153/153 [==============================] - 1s 4ms/step - loss: 0.0143\n",
            "Epoch 13/15\n",
            "153/153 [==============================] - 1s 5ms/step - loss: 0.0137\n",
            "Epoch 14/15\n",
            "153/153 [==============================] - 1s 5ms/step - loss: 0.0135\n",
            "Epoch 15/15\n",
            "153/153 [==============================] - 1s 4ms/step - loss: 0.0136\n"
          ],
          "name": "stdout"
        },
        {
          "output_type": "execute_result",
          "data": {
            "text/plain": [
              "<tensorflow.python.keras.callbacks.History at 0x7f0ad5d8fb38>"
            ]
          },
          "metadata": {
            "tags": []
          },
          "execution_count": 226
        }
      ]
    },
    {
      "cell_type": "code",
      "metadata": {
        "id": "W5WDrM5CTDrL"
      },
      "source": [
        "Open_ZeroMeanFilteredOpen=scaler_ZeroMeanFilteredOpen.transform(test[['ZeroMeanFilteredOpen']])\r\n",
        "X_ZeroMeanFilteredOpen_test,y_ZeroMeanFilteredOpen_test=split_sequence(Open_ZeroMeanFilteredOpen)\r\n",
        "arr_X_ZeroMeanFilteredOpen_test = np.array(X_ZeroMeanFilteredOpen_test)\r\n",
        "arr_y_ZeroMeanFilteredOpen_test = np.array(y_ZeroMeanFilteredOpen_test)\r\n",
        "predicted_ZeroMeanFilteredOpen_price = model_ZeroMeanFilteredOpen.predict(arr_X_ZeroMeanFilteredOpen_test)\r\n",
        "predicted_ZeroMeanFilteredOpen_price = scaler_ZeroMeanFilteredOpen.inverse_transform(predicted_ZeroMeanFilteredOpen_price)\r\n",
        "df_ZeroMeanFilteredOpen_predict = pd.DataFrame(predicted_ZeroMeanFilteredOpen_price, index = test.index[2:34])\r\n"
      ],
      "execution_count": 227,
      "outputs": []
    },
    {
      "cell_type": "code",
      "metadata": {
        "id": "shb4mFK6ViBa"
      },
      "source": [
        "df_ZeroMeanFilteredOpen_predict=df_ZeroMeanFilteredOpen_predict.add(mean_FilteredOpen) "
      ],
      "execution_count": 230,
      "outputs": []
    },
    {
      "cell_type": "markdown",
      "metadata": {
        "id": "xokh74PzfGt2"
      },
      "source": [
        "### Step 18: Plot all three predictions with the original test \"Open\"\n",
        "Which predictions did the best? Let's find out by plotting all three sets of predictions on the same plot. \n",
        "\n",
        "If your ZeroMeanFilteredOpen plot is way lower than others, make sure you added the mean to undo the zero-mean normalization."
      ]
    },
    {
      "cell_type": "markdown",
      "metadata": {
        "id": "0nMtExx7gLxn"
      },
      "source": [
        "<details>\n",
        "    <summary><font color = 'green'>SPOILERS! Click once for a look to compare our plot and yours</font></summary>\n",
        "    <div>\n",
        "        <img src = 'https://uplevelsg.s3-ap-southeast-1.amazonaws.com/ProjectFinancexLSTM/FinalPredictionPlots.png'>\n",
        "    </div>\n",
        "</details>"
      ]
    },
    {
      "cell_type": "code",
      "metadata": {
        "id": "koqLQYeGfGA4"
      },
      "source": [
        "# Step 18: Plot all predictions with the original test \"Open\""
      ],
      "execution_count": null,
      "outputs": []
    },
    {
      "cell_type": "code",
      "metadata": {
        "colab": {
          "base_uri": "https://localhost:8080/",
          "height": 537
        },
        "id": "v1D5AqUkSvmF",
        "outputId": "4bc1e54b-40fe-4346-94db-192f9f061c71"
      },
      "source": [
        "plt.figure(figsize = (16, 9))\r\n",
        "plt.plot(df_open_predict)\r\n",
        "plt.plot(test['Open'][2:])\r\n",
        "plt.plot(df_FilteredOpen_predict)\r\n",
        "plt.plot(df_ZeroMeanFilteredOpen_predict)\r\n",
        "plt.legend([\"Predicted Open\", \"Actual Open\", \"FilteredOpen\",\"ZeroMeanFilteredOpen\"])\r\n",
        "plt.show()"
      ],
      "execution_count": 231,
      "outputs": [
        {
          "output_type": "display_data",
          "data": {
            "image/png": "[encoded data removed]",
            "text/plain": [
              "<Figure size 1152x648 with 1 Axes>"
            ]
          },
          "metadata": {
            "tags": [],
            "needs_background": "light"
          }
        }
      ]
    },
    {
      "cell_type": "markdown",
      "metadata": {
        "id": "kZZfmhNVg5Xq"
      },
      "source": [
        "### Step 19: Calculate the RMSE of the three predictions\n",
        "Visually, we know which predictions performed best.\n",
        "\n",
        "However, it's good to put a number on it as well. Let's calculate the RMSE of the predictions."
      ]
    },
    {
      "cell_type": "code",
      "metadata": {
        "id": "qTaMZTVxLVL4"
      },
      "source": [
        "# Step 19a: Print the RMSE of test 'Open' and 'Open' predictions\n",
        "\n",
        "# Step 19b: Print the RMSE of test 'Open' and 'FilteredOpen' predictions\n",
        "\n",
        "# Step 19c: Print the RMSE of test 'Open' and 'ZeroMeanFilteredOpen' predictions"
      ],
      "execution_count": null,
      "outputs": []
    },
    {
      "cell_type": "code",
      "metadata": {
        "colab": {
          "base_uri": "https://localhost:8080/"
        },
        "id": "UEJyHaFI9Tmk",
        "outputId": "4b60f24c-c69e-4f03-a72b-0be1d6b82599"
      },
      "source": [
        "mse_value_open=mean_squared_error(test['Open'][2:34],df_open_predict)\r\n",
        "rmse_open=mse_value_open**0.5\r\n",
        "\r\n",
        "mse_value_FilteredOpen=mean_squared_error(test['Open'][2:34],df_FilteredOpen_predict)\r\n",
        "rmse_FilteredOpen=mse_value_FilteredOpen**0.5\r\n",
        "\r\n",
        "mse_value_ZeroMeanFilteredOpen=mean_squared_error(test['Open'][2:34],df_ZeroMeanFilteredOpen_predict)\r\n",
        "rmse_ZeroMeanFilteredOpen=mse_value_ZeroMeanFilteredOpen**0.5\r\n",
        "\r\n",
        "\r\n",
        "\r\n",
        "print('The RMSE for Open and Open Predictions :%.2f' %(rmse_open))\r\n",
        "print('The RMSE for Open and FilteredOpen Predictions :%.2f' %(rmse_FilteredOpen))\r\n",
        "print('The RMSE for Open and Open ZeroMeanFilteredOpen :%.2f' %(rmse_ZeroMeanFilteredOpen))\r\n"
      ],
      "execution_count": 236,
      "outputs": [
        {
          "output_type": "stream",
          "text": [
            "The RMSE for Open and Open Predictions :28.77\n",
            "The RMSE for Open and FilteredOpen Predictions :32.64\n",
            "The RMSE for Open and Open ZeroMeanFilteredOpen :42.07\n"
          ],
          "name": "stdout"
        }
      ]
    },
    {
      "cell_type": "code",
      "metadata": {
        "id": "SkfPeK22V8V0"
      },
      "source": [
        ""
      ],
      "execution_count": null,
      "outputs": []
    },
    {
      "cell_type": "code",
      "metadata": {
        "id": "jk2YmG4rV8m3"
      },
      "source": [
        ""
      ],
      "execution_count": null,
      "outputs": []
    },
    {
      "cell_type": "markdown",
      "metadata": {
        "id": "AClfLKKBhVtI"
      },
      "source": [
        "# The end\n",
        "And that's the end! What a journey; you successfully performed classical and deep learning for S&P 500 stock prices.\n",
        "\n",
        "To recap, you've:\n",
        "1. Read research on stock pricing and retrieved the data\n",
        "2. Investigated the ARIMA terms and performed ARIMA modelling\n",
        "3. Used signal processing techniques to denoise stock data\n",
        "4. Trained an LSTM model to predict stock pricing data\n",
        "\n",
        "You have also answered the two questions that we wanted to ask at the start of this project.\n",
        "\n",
        "Go on, give yourself a pat on the back. We hope this project series has give you more confidence in coding and deep learning. \n",
        "\n",
        "Whatever you learn here is but a tip of the iceberg, and launchpad for bigger and better things to come. \n",
        "\n",
        "If you're keen, here are some more things you can try:\n",
        "- More datasets, e.g., HSI and DJI\n",
        "- More modelling, e.g., more complex LSTM infrastructures\n",
        "\n",
        "Come join us in our Telegram community over at https://bit.ly/UpLevelSG and our Facebook page at https://fb.com/UpLevelSG\n",
        "\n",
        "<strong>Most importantly, UpLevel won't be what it is today without learners like yourself so help us grow by spreading the word and get more subscribers <font color = 'red'><3</font></strong>\n"
      ]
    }
  ]
}